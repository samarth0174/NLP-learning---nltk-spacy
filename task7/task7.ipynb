{
 "cells": [
  {
   "cell_type": "markdown",
   "metadata": {},
   "source": [
    "# Task 7"
   ]
  },
  {
   "cell_type": "code",
   "execution_count": 16,
   "metadata": {},
   "outputs": [],
   "source": [
    "import nltk\n"
   ]
  },
  {
   "cell_type": "code",
   "execution_count": 17,
   "metadata": {},
   "outputs": [],
   "source": [
    "def gender_features(str):\n",
    "    return {'last_letter' : str[-1]}"
   ]
  },
  {
   "cell_type": "code",
   "execution_count": 18,
   "metadata": {},
   "outputs": [
    {
     "data": {
      "text/plain": [
       "{'last_letter': 'm'}"
      ]
     },
     "execution_count": 18,
     "metadata": {},
     "output_type": "execute_result"
    }
   ],
   "source": [
    "gender_features(\"Sam\")"
   ]
  },
  {
   "cell_type": "code",
   "execution_count": 19,
   "metadata": {},
   "outputs": [],
   "source": [
    "from nltk.corpus import names"
   ]
  },
  {
   "cell_type": "code",
   "execution_count": 20,
   "metadata": {},
   "outputs": [
    {
     "data": {
      "text/plain": [
       "['Abagael', 'Abagail', 'Abbe', 'Abbey', 'Abbi']"
      ]
     },
     "execution_count": 20,
     "metadata": {},
     "output_type": "execute_result"
    }
   ],
   "source": [
    "names.words()[:5]"
   ]
  },
  {
   "cell_type": "code",
   "execution_count": 21,
   "metadata": {},
   "outputs": [],
   "source": [
    "labeled_names = ([(name,'male') for name in names.words('male.txt')] + [(name,'female') for name in names.words('female.txt')])"
   ]
  },
  {
   "cell_type": "code",
   "execution_count": 22,
   "metadata": {},
   "outputs": [],
   "source": [
    "import random \n",
    "random.shuffle(labeled_names)"
   ]
  },
  {
   "cell_type": "code",
   "execution_count": 23,
   "metadata": {},
   "outputs": [],
   "source": [
    "featuresets = [(gender_features(n),gender) for (n,gender) in labeled_names]"
   ]
  },
  {
   "cell_type": "code",
   "execution_count": 24,
   "metadata": {},
   "outputs": [],
   "source": [
    "train_set,test_set  = featuresets[:5000],featuresets[2000:]"
   ]
  },
  {
   "cell_type": "code",
   "execution_count": 26,
   "metadata": {},
   "outputs": [],
   "source": [
    "import nltk\n",
    "classifier = nltk.NaiveBayesClassifier.train(train_set)"
   ]
  },
  {
   "cell_type": "code",
   "execution_count": 27,
   "metadata": {},
   "outputs": [
    {
     "data": {
      "text/plain": [
       "'female'"
      ]
     },
     "execution_count": 27,
     "metadata": {},
     "output_type": "execute_result"
    }
   ],
   "source": [
    "classifier.classify(gender_features('Samarth'))"
   ]
  },
  {
   "cell_type": "code",
   "execution_count": 28,
   "metadata": {},
   "outputs": [
    {
     "name": "stdout",
     "output_type": "stream",
     "text": [
      "0.7234013970983342\n"
     ]
    }
   ],
   "source": [
    "print(nltk.classify.accuracy(classifier,test_set))"
   ]
  },
  {
   "cell_type": "markdown",
   "metadata": {},
   "source": [
    "# pos tagging for para"
   ]
  },
  {
   "cell_type": "code",
   "execution_count": 39,
   "metadata": {},
   "outputs": [
    {
     "name": "stdout",
     "output_type": "stream",
     "text": [
      "[('Lionel', 'NNP'), ('Andrés', 'NNP'), ('Messi', 'NNP'), ('Cuccittini', 'NNP'), ('note', 'NN'), ('1', 'CD'), ('Spanish', 'JJ'), ('pronunciation', 'NN'), ('ljoˈnel', 'NN'), ('anˈdɾez', 'NN'), ('ˈmesi', 'VBP'), ('About', 'IN'), ('soundlisten', 'PDT'), ('A', 'NNP'), ('born', 'JJ'), ('24', 'CD'), ('June', 'NNP'), ('1987', 'CD'), ('Argentine', 'NNP'), ('professional', 'JJ'), ('footballer', 'NN'), ('plays', 'VBZ'), ('forward', 'RB'), ('captains', 'VBZ'), ('Spanish', 'JJ'), ('club', 'NN'), ('Barcelona', 'NNP'), ('Argentina', 'NNP'), ('national', 'JJ'), ('team', 'NN'), ('Often', 'NNP'), ('considered', 'VBD'), ('best', 'JJS'), ('player', 'NN'), ('world', 'NN'), ('widely', 'RB'), ('regarded', 'VBD'), ('one', 'CD'), ('greatest', 'JJS'), ('players', 'NNS'), ('time', 'NN'), ('Messi', 'NNP'), ('record', 'NN'), ('six', 'CD'), ('Ballon', 'NNP'), ('Or', 'CC'), ('awards', 'NNS'), ('note', 'VBP'), ('2', 'CD'), ('record', 'NN'), ('six', 'CD'), ('European', 'JJ'), ('Golden', 'NNP'), ('Shoes', 'NNP'), ('He', 'PRP'), ('spent', 'VBD'), ('entire', 'JJ'), ('professional', 'JJ'), ('career', 'NN'), ('Barcelona', 'NNP'), ('club', 'NN'), ('record', 'NN'), ('34', 'CD'), ('trophies', 'NNS'), ('including', 'VBG'), ('ten', 'JJ'), ('La', 'NNP'), ('Liga', 'NNP'), ('titles', 'VBZ'), ('four', 'CD'), ('UEFA', 'NNP'), ('Champions', 'NNP'), ('League', 'NNP'), ('titles', 'NNS'), ('six', 'CD'), ('Copas', 'NNP'), ('del', 'FW'), ('Rey', 'NNP'), ('A', 'NNP'), ('prolific', 'NN'), ('goalscorer', 'NN'), ('creative', 'JJ'), ('playmaker', 'NN'), ('Messi', 'NNP'), ('holds', 'VBZ'), ('records', 'NNS'), ('goals', 'NNS'), ('La', 'NNP'), ('Liga', 'NNP'), ('433', 'CD'), ('La', 'NNP'), ('Liga', 'NNP'), ('European', 'NNP'), ('league', 'NN'), ('season', 'NN'), ('50', 'CD'), ('hat', 'NN'), ('tricks', 'NNS'), ('La', 'NNP'), ('Liga', 'NNP'), ('35', 'CD'), ('UEFA', 'NNP'), ('Champions', 'NNP'), ('League', 'NNP'), ('8', 'CD'), ('assists', 'NNS'), ('La', 'NNP'), ('Liga', 'NNP'), ('181', 'CD'), ('Copa', 'NNP'), ('América', 'NNP'), ('13', 'CD'), ('He', 'PRP'), ('scored', 'VBD'), ('700', 'CD'), ('senior', 'JJ'), ('career', 'NN'), ('goals', 'NNS'), ('club', 'VBP'), ('country', 'NN')]\n"
     ]
    }
   ],
   "source": [
    "import nltk \n",
    "from nltk.corpus import stopwords \n",
    "from nltk.tokenize import RegexpTokenizer\n",
    "\n",
    "stop_words = set(stopwords.words('english')) \n",
    "\n",
    "txt = '''Lionel Andrés Messi Cuccittini[note 1] (Spanish pronunciation: [ljoˈnel anˈdɾez ˈmesi] (About this soundlisten);[A] born 24 June 1987) is an Argentine professional footballer who plays as a forward and captains both Spanish club Barcelona and the Argentina national team. Often considered the best player in the world and widely regarded as one of the greatest players of all time, Messi has won a record six Ballon d'Or awards,[note 2] and a record six European Golden Shoes. He has spent his entire professional career with Barcelona, where he has won a club-record 34 trophies, including ten La Liga titles, four UEFA Champions League titles and six Copas del Rey. A prolific goalscorer and a creative playmaker, Messi holds the records for most goals in La Liga (433), a La Liga and European league season (50), most hat-tricks in La Liga (35) and the UEFA Champions League (8), and most assists in La Liga (181) and the Copa América (13). He has scored over 700 senior career goals for club and country.'''\n",
    "\n",
    "\n",
    "tokenizer = RegexpTokenizer('\\w+')\n",
    "words =tokenizer.tokenize(txt)\n",
    "# words = nltk.word_tokenize(txt)\n",
    "wordsList = [w for w in words if not w in stop_words] \n",
    "tagged_words = nltk.pos_tag(wordsList)\n",
    "print(tagged_words)"
   ]
  },
  {
   "cell_type": "code",
   "execution_count": null,
   "metadata": {},
   "outputs": [],
   "source": []
  }
 ],
 "metadata": {
  "kernelspec": {
   "display_name": "Python 3",
   "language": "python",
   "name": "python3"
  },
  "language_info": {
   "codemirror_mode": {
    "name": "ipython",
    "version": 3
   },
   "file_extension": ".py",
   "mimetype": "text/x-python",
   "name": "python",
   "nbconvert_exporter": "python",
   "pygments_lexer": "ipython3",
   "version": "3.7.4"
  }
 },
 "nbformat": 4,
 "nbformat_minor": 4
}
