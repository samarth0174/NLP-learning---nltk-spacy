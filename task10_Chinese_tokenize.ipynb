{
  "nbformat": 4,
  "nbformat_minor": 0,
  "metadata": {
    "colab": {
      "name": "Chinese_tokenize.ipynb",
      "provenance": [],
      "authorship_tag": "ABX9TyMZnpuduxGpbyHm6dlESm1B",
      "include_colab_link": true
    },
    "kernelspec": {
      "name": "python3",
      "display_name": "Python 3"
    }
  },
  "cells": [
    {
      "cell_type": "markdown",
      "metadata": {
        "id": "view-in-github",
        "colab_type": "text"
      },
      "source": [
        "<a href=\"https://colab.research.google.com/github/samarth0174/NLP-learning---nltk-spacy/blob/master/task10_Chinese_tokenize.ipynb\" target=\"_parent\"><img src=\"https://colab.research.google.com/assets/colab-badge.svg\" alt=\"Open In Colab\"/></a>"
      ]
    },
    {
      "cell_type": "code",
      "metadata": {
        "id": "YkiEzTVbLTsg",
        "colab_type": "code",
        "colab": {}
      },
      "source": [
        "# Task10\n",
        "# Chinese Words Tokenisation"
      ],
      "execution_count": 0,
      "outputs": []
    },
    {
      "cell_type": "markdown",
      "metadata": {
        "id": "yydqf34eLaSy",
        "colab_type": "text"
      },
      "source": [
        "# Problem\n",
        "The major difference between Chinese and English is that structure of writing. The problem of NLP in Chinese is: If you tokenize Chinese characters from the articles, there is no whitespace in between phrases in Chinese so simply split based on whitespace like in English may not work as well as in English"
      ]
    },
    {
      "cell_type": "code",
      "metadata": {
        "id": "87GRUMVCLZIr",
        "colab_type": "code",
        "colab": {
          "base_uri": "https://localhost:8080/",
          "height": 124
        },
        "outputId": "37aa5d8c-3f2f-498d-f03e-59751f6fef8e"
      },
      "source": [
        "import re\n",
        "import jieba\n",
        "\n",
        "\n",
        "news_file = '''談到貿易戰的長遠影響，林行止表示貿易戰促使在中國的工廠搬遷到越南、寮國、印度、台灣甚至是馬來西亞，以避開關稅。當工廠搬遷完成後，關稅導致進口貨加價的浪潮很快就過去，由於上述地方的生產成本比中國低，屆時貨物零售價可能會比在內地生產便宜。'''\n",
        "news = news_file.split('\\n')[0]\n",
        "\n",
        "tokens = jieba.cut_for_search(news)\n",
        "print(', '.join(tokens))"
      ],
      "execution_count": 3,
      "outputs": [
        {
          "output_type": "stream",
          "text": [
            "Building prefix dict from the default dictionary ...\n",
            "Dumping model to file cache /tmp/jieba.cache\n",
            "Loading model cost 0.980 seconds.\n",
            "Prefix dict has been built successfully.\n"
          ],
          "name": "stderr"
        },
        {
          "output_type": "stream",
          "text": [
            "談到, 貿易戰, 的, 長, 遠, 影響, ，, 林, 行止, 表示, 貿易戰, 促使, 在, 中國, 的, 工廠, 搬, 遷, 到, 越南, 、, 寮, 國, 、, 印度, 、, 台灣, 甚至, 是, 馬, 來, 西亞, ，, 以避開, 關稅, 。, 當工廠, 搬, 遷, 完成, 後, ，, 關稅, 導致, 進口, 貨加價, 的, 浪潮, 很快, 就, 過去, ，, 由, 於, 上述, 地方, 的, 生產, 成本, 比中國, 低, ，, 屆, 時, 貨物, 零售, 價, 可能, 會, 比, 在, 內, 地, 生產, 便宜, 。\n"
          ],
          "name": "stdout"
        }
      ]
    },
    {
      "cell_type": "code",
      "metadata": {
        "id": "Sh8MR7cNNosA",
        "colab_type": "code",
        "colab": {}
      },
      "source": [
        ""
      ],
      "execution_count": 0,
      "outputs": []
    }
  ]
}